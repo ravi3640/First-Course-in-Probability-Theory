{
  "nbformat": 4,
  "nbformat_minor": 0,
  "metadata": {
    "colab": {
      "provenance": [],
      "collapsed_sections": [
        "ieyYF10wNYst",
        "C4_z1KILQiZm",
        "xXZ4TntQUXRP",
        "UEUKJC9KOKjR",
        "gQ9uSnJ5ill9",
        "03aB2PoQnNtk",
        "fv31A-IajG3N"
      ],
      "toc_visible": true,
      "authorship_tag": "ABX9TyNd8xav6MRMQxa8H57nechR",
      "include_colab_link": true
    },
    "kernelspec": {
      "name": "python3",
      "display_name": "Python 3"
    },
    "language_info": {
      "name": "python"
    }
  },
  "cells": [
    {
      "cell_type": "markdown",
      "metadata": {
        "id": "view-in-github",
        "colab_type": "text"
      },
      "source": [
        "<a href=\"https://colab.research.google.com/github/ravi3640/First-Course-in-Probability-Theory/blob/main/Combinatorial_Analysis.ipynb\" target=\"_parent\"><img src=\"https://colab.research.google.com/assets/colab-badge.svg\" alt=\"Open In Colab\"/></a>"
      ]
    },
    {
      "cell_type": "markdown",
      "source": [
        "# **1.1 Introduction**"
      ],
      "metadata": {
        "id": "ieyYF10wNYst"
      }
    },
    {
      "cell_type": "markdown",
      "source": [
        "  \n",
        "\n",
        "*   The mathematical system of counting is formally known as *Combinatorial Analysis*.\n",
        "*   Question: How many ways are there to arrange $n$ objects, out of which $m$ are defective and we can not place two consecutive defective objects in our arrangement?\n",
        "*   Answering such questions is called *Combinatorial Analysis*."
      ],
      "metadata": {
        "id": "myp210OKNQny"
      }
    },
    {
      "cell_type": "markdown",
      "source": [
        "# **1.2 The Basic Principle of Counting**"
      ],
      "metadata": {
        "id": "C4_z1KILQiZm"
      }
    },
    {
      "cell_type": "markdown",
      "source": [
        "\n",
        "\n",
        "*   **Generalized Basic Principle of Counting**: If $r$ experiments are to be performed and the first one may result in $n_1$ posisble outcome and for each of these $n_1$ there are $n_2$ possible outcomes in the second experiment and $n_3$ possible outcomes in the thrird experiment for each outcome in second experiment and so on till $n_r$ possible outocmes in the $r^{th}$ experiment. Then total possible outcomes after $r$ experiment is $n_1 \\times n_2 × ... \\times n_r$\n",
        "*   **Example**: How many different 7-place license plates are possible if the first 3 places are to be occupied by letters and final 4 by numbers?\n",
        "  \n",
        "  **Solution**: By *Generalized Basic Principle of Counting* the answer is $26 \\times 26 \\times 26 \\times 10 × 10 × 10 × 10 = 175, 760, 000$"
      ],
      "metadata": {
        "id": "LhMNWvtfQxFd"
      }
    },
    {
      "cell_type": "markdown",
      "source": [
        "# **1.3 Permutations**"
      ],
      "metadata": {
        "id": "xXZ4TntQUXRP"
      }
    },
    {
      "cell_type": "markdown",
      "source": [
        "\n",
        "\n",
        "*   How many different ordered arrangements are possible for a set of objects? Each such possible arrangement is called *permutation*.\n",
        "*   For example, with three letters $a,b$ and $c$, total *permutation* can be argued as first experiment has three possibilities, second experiment has two possibilities and last has only one possibiity. Hence, total number of permutation is $3 × 2 × 1 = 6$.\n",
        "*   Similarly, for $n$ such objects, total number of *permutation* is $n × (n-1) × .... × 1 = n!$\n",
        "*   **Example**: 10 books to be put on a bookself such that all the books of same subject are put together. Of these 4 are mathematics, 3 chemistry, 2 history and 1 language. How many different arrangements are possible?\n",
        "\n",
        "   **Solution**: One possible ordering of subjects is *mathematica, chemistry, history, language*. For this ordering, total number of permutation is $4! × 3! × 2! × 1!$ And there are $4!$ such possible ordering of subjects. Hence total possible permutation is $4! × 4! × 3! × 2! × 1!$\n",
        "\n",
        "\n",
        "*   **Permutation with Indistinguishable Objects**: Number of permutations of $n$ objects when $n_1$ are alike, $n_2$ are alike, ..., $n_r$ are alike is given by $\\frac{n!}{n_1 ! n_2 !...n_r !}$\n",
        "*   **Example**: A chess tournament has 10 competitors of which 4 are Russian, 3 are from U.S.A, 2 are from Great Britain and 1 from Brazil. If the result of tournaments only shows the nationality of the players, how many outcome are possible?\n",
        "\n",
        "  **Solution**: Using above formula, there are $\\frac{10!}{4!3!2!1!}= 12,600$ possible outcomes.  "
      ],
      "metadata": {
        "id": "bVFQsXU7UeIM"
      }
    },
    {
      "cell_type": "markdown",
      "source": [
        "# **1.4 Combinations**"
      ],
      "metadata": {
        "id": "UEUKJC9KOKjR"
      }
    },
    {
      "cell_type": "markdown",
      "source": [
        "\n",
        "\n",
        "*   **Question**: Number of different groups of $r$ objects that could be formed from a total of $n$ objects.\n",
        "\n",
        "   **Solution**: Questions where order matters comes under *permutation* and where order does not matter comes under *combination*. In the above question order does not matter and formula to answer such question is given by -\n",
        "   \\begin{align}\n",
        "        \\binom{n}{r} = \\frac{n!}{(n-r)!r!}\n",
        "    \\end{align}\n",
        "for $r\\leq n$ is read as number of possible combinations of $n$ objects taken $r$ at a time.\n",
        "\n",
        "\n",
        "*   **Explanation**: There are two components to consider, when we try to compute number of *Combinations* possible while choosing $r$ from $n$.\n",
        "\n",
        "\n",
        "1.   Find the total number of *permutations* of $r$ from $n$ objects.\n",
        "2.   Each unique group of $r$ objects must be repreated $r!$ times. Hence, diveide the number obtianed in point 1 by $r!$. This led to -\n",
        "\n",
        "\\begin{align}\n",
        "        \\binom{n}{r} = \\frac{(n)(n-1)...(n-r+1)}{r!} =\\frac{n!}{(n-r)!r!}\n",
        "    \\end{align}\n",
        "\n",
        "\n",
        "\n",
        "*   **Example**: A committee of 3 is to be formed from a group of 20 people. How many different committee are possible?\n",
        "\n",
        "  **Solution**: There are $\\binom{20}{3} = \\frac{20 × 19 × 18}{3 × 2 × 1} = 1140$ possible committees.\n",
        "\n",
        "\n",
        "*   **Example**: From a group of 5 women and 7 men, how many different committee consisting of 2 women and 3 men can be formed? What if 2 of the men are feuding and refuse to serve on the committee together?\n",
        "   \n",
        "   **Solution**: There are $\\binom{5}{2}$ possible ways for the women and $\\binom{7}{3}$ possible ways for men. Hence, total number of ways of forming group is given by $\\binom{5}{2} × \\binom{7}{3} =350$\n",
        "\n",
        "   In the case of 2 feuding men, there are two possible cases. First, none of the two 2 feuding men are there in the committee and only one of the 2 feuding men are in the committee. This calculation is done as - $[\\binom{2}{0} × \\binom{5}{3} + \\binom{2}{1} × \\binom{5}{2}] × \\binom{5}{2} = 30 × 10 = 300$  \n",
        "\n",
        "\n",
        "\n",
        "*   Useful identity in *Combination*\n",
        "\\begin{align}\n",
        "        \\binom{n}{r} = \\binom{(n-1)}{(r-1)} + \\binom{(n-1)}{r}\n",
        "    \\end{align}\n",
        "\n",
        "To justify the above formula, lets assume that $r$ members are to be selected from $n$ members. One of the ways to do so is isolate 1 person. Total numbers of ways to select $r$ from $n$ is to either always keep that 1 person or never keep that 1 person.\n",
        "\n"
      ],
      "metadata": {
        "id": "Xm3xyr2LORNR"
      }
    },
    {
      "cell_type": "markdown",
      "source": [
        "# **1.5 Binomial Theorem**"
      ],
      "metadata": {
        "id": "gQ9uSnJ5ill9"
      }
    },
    {
      "cell_type": "markdown",
      "source": [
        "**Binomial Theorem**: $(x+y)^n = ∑_{k=0}^n \\binom{n}{k} x^k y^{n-k}$\n",
        "\n",
        "<u>Proof by Induction:</u>\n",
        "\n",
        "\n",
        "$ \\text{When } n = 1: (x+y)^n = \\binom{1}{0}x^0y^1+\\binom{1}{1}x^1y^0=y+x$\n",
        "\n",
        "Assume that Binomial Theorem holds for $n-1$ also. Now we prove that it holds for $n$ as well.\n",
        "\n",
        "$(x+y)^n = (x+y)(x+y)^{n-1}$ \\\\\n",
        "$(x+y)^n = (x+y)∑_{k=0}^{n-1} \\binom{n-1}{k}x^k y^{n-1-k}$ \\\\\n",
        "$(x+y)^n = ∑_{k=0}^{n-1} \\binom{n-1}{k}x^{k+1} y^{n-1-k} + ∑_{k=0}^{n-1} \\binom{n-1}{k}x^{k} y^{n-k}$ \\\\\n",
        "\n",
        "Let $i=k+1$ in the first sum and $i=k$ in the second sum, we find that \\\\\n",
        "\n",
        "$(x+y)^n = ∑_{i=1}^{n} \\binom{n-1}{i-1}x^{i} y^{n-i} + ∑_{i=0}^{n-1} \\binom{n-1}{i}x^{i} y^{n-i}$ \\\\\n",
        "$(x+y)^n = x^n + ∑_{i=1}^{n-1}[\\binom{n-1}{i-1}+\\binom{n-1}{i}]x^i y^{n-i} + y^n$ \\\\\n",
        "$(x+y)^n = x^n + ∑_{i=1}^{n-1} \\binom{n}{i} x^i y^{n-i} + y^n$ \\\\\n",
        "$(x+y)^n = ∑_{i=0}^{n} \\binom{n}{i} x^i y^{n-i}$ \\\\\n",
        "\n",
        "<u>Combinatorial Proof:</u>\n",
        "\n",
        "Consider the product $(x_1+y_1)(x_2+y_2)...(x_n+y_n)$\n",
        "\n",
        "Its expansion consists of the sum of $2^n$ terms and each being product of $n$ factors. Moreover, each term will contain $k$ of the $x_i's$ and $(n-k)$ of the $y_i's$. Each term is repreated $\\binom{n}{k}$ times. Thus, replacing $x_i$ with $x$ and $y_i$ with $y$, we get -\n",
        "\n",
        "$(x+y)^n = ∑_{k=0}^{n} \\binom{n}{k} x^k y^{n-k}$\n",
        "\n",
        "\n",
        "\n",
        "*   **Example**: How many subsets are there of a set consisting of $n$ elements?\n",
        "\n",
        "  **Solution**: Since there are $\\binom{n}{k}$ subset of size $k$, the desired answer is -\n",
        "\n",
        "  \\begin{align}\n",
        "      ∑_{k=0}^{n} \\binom{n}{k} = (1+1)^n = 2^n\n",
        "    \\end{align}"
      ],
      "metadata": {
        "id": "M0_3tJjqi40h"
      }
    },
    {
      "cell_type": "markdown",
      "source": [
        "# **1.6 Multinomial Coefficients**"
      ],
      "metadata": {
        "id": "03aB2PoQnNtk"
      }
    },
    {
      "cell_type": "markdown",
      "source": [
        "\n",
        "*   A set of $n$ distinct items is to be divided into $r$ distinct groups of sizes $n_1, n_2,...,n_r$, where $∑_{i=1}^r n_i = n$. To find total number of different divisions, we define -\n",
        "\n",
        "\\begin{align}\n",
        "   \\binom{n}{n_1, n_2,..,n_r} = \\frac{n!}{n_1!n_2!...n_r!}\n",
        "\\end{align}\n",
        "\n",
        "<u>Proof</u>:\n",
        "\n",
        "Possible ways for the first group is $\\binom{n}{n_1}$ and for each choice of the first group there are $\\binom{n-n_1}{n_2}$ choices for the second group. Similarly, for each of the choices for the first two groups, there are $\\binom{n-n_1-n_2}{n_3}$ choices of the third group. Hence, it follows from the generalized version of basic counting principle that there are -\n",
        "\n",
        "\\begin{align}\n",
        "    \\binom{n}{n_1} \\binom{n-n_1}{n_2} ...\\binom{n-n_1-...-n_{r-1}}{n_r} \\\\\n",
        "    =\\frac{n!}{(n-n_1)!n_1!} \\frac{(n-n_1)!}{(n-n_1-n_2)!n_2!}... \\frac{(n-n_1-n_2-...-n_{r-1})!}{0!n_r!} = \\frac{n!}{n_1! n_2!...n_3!}\n",
        "\\end{align}\n",
        "\n",
        "possible divisions.\n",
        "\n",
        "*   **Example**: A police department has 10 officers. 5 of these officers will patrol the street, 2 of them will work full-time at station, 3 will be kept reserved. How many different possible groups can be formed?\n",
        "\n",
        "  **Solution**: There are $\\frac{10!}{5!2!3!} = 2520$ possible divisions.\n",
        "\n",
        "*   **Multinomial Theorem**:\n",
        "\\begin{align}\n",
        "     (x_1+x_2+...+x_r)^n = \\underset{(n_1,n_2,..,n_r)}{∑} \\binom{n}{n_1,n_2,...,n_r} x_1^{n_1} x_2^{n_2}...x_r^{n_r}\n",
        "\\end{align}"
      ],
      "metadata": {
        "id": "m3lZPRyca_qa"
      }
    },
    {
      "cell_type": "markdown",
      "source": [
        "# **1.7 On The Distribution of Balls in Urns**"
      ],
      "metadata": {
        "id": "fv31A-IajG3N"
      }
    },
    {
      "cell_type": "markdown",
      "source": [
        "\n",
        "\n",
        "*   Number of possible outcomes when $n$ distinguishable balls are to be placed into $r$ distinguishable urns = $r^n$. This is becuase each ball is an experiment with $r$ possibilities.\n",
        "*   If $n$ balls are indistingishable, then number of ways to put them into $r$ urns can be described as a vector $(x_1,x_2,...,x_r)$, where $x_i$ is the number of balls into $i^{th}$ urn.\n",
        "\n",
        "   This is equivalent to finding the number of distinct non-negative vectors $(x_1,x_2,...,x_r)$ such that\n",
        "\n",
        "   \\begin{align}\n",
        "          x_1+x_2+...+x_n=n\n",
        "   \\end{align}\n",
        "\n",
        "*   To answer this, imagine we have $n$ distingishable objects lined-up and we want to divide them into $r$ nonempty groups like this -\n",
        " \\begin{align}\n",
        "          000|000|00\n",
        "   \\end{align}\n",
        "   That means we are going to select $r-1$ of the $n-1$ spaces.\n",
        "*   **Proposition**: There are $\\binom{n-1}{r-1}$ distinct positive integer-valued vectors $(x_1,x_2,...,x_r)$ satisfying $x_1+x_2+...+x_n=n$\n",
        "*   **Proposition**: There are $\\binom{n+r-1}{r-1}$ distinct non-negative integer-valued vectors $(x_1,x_2,...,x_r)$ satisfying $x_1+x_2+...+x_n=n$\n",
        "    \n",
        "    This can be thought as previous proposition while stisfying $y_1+y_2+...+y_n=n+r$ where each $y_i = x_i + 1$\n",
        "\n",
        "\n",
        "\n",
        "*   **Example**: How many distinct non-negative integer-valued solution of $x_1 +x_2 = 3$ are possible?\n",
        "\n",
        "   **Solution**: There are $\\binom{3+2-1}{2-1} = 4$ such solutions."
      ],
      "metadata": {
        "id": "4do68NK2jSto"
      }
    },
    {
      "cell_type": "code",
      "source": [
        "import math"
      ],
      "metadata": {
        "id": "pKSmckAPgG3P"
      },
      "execution_count": 1,
      "outputs": []
    },
    {
      "cell_type": "code",
      "source": [
        "math.comb(5, 2)"
      ],
      "metadata": {
        "colab": {
          "base_uri": "https://localhost:8080/"
        },
        "id": "pIuW6lWkgJlb",
        "outputId": "21f55b58-15c6-4d5c-dbc7-62f0d90e083a"
      },
      "execution_count": 3,
      "outputs": [
        {
          "output_type": "execute_result",
          "data": {
            "text/plain": [
              "10"
            ]
          },
          "metadata": {},
          "execution_count": 3
        }
      ]
    },
    {
      "cell_type": "code",
      "source": [],
      "metadata": {
        "id": "KBP7-NrigSKv"
      },
      "execution_count": null,
      "outputs": []
    }
  ]
}