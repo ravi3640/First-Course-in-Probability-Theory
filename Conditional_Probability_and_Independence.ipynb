{
  "nbformat": 4,
  "nbformat_minor": 0,
  "metadata": {
    "colab": {
      "provenance": [],
      "toc_visible": true,
      "authorship_tag": "ABX9TyPERw51dAIWKW+s1SBdm5Xv",
      "include_colab_link": true
    },
    "kernelspec": {
      "name": "python3",
      "display_name": "Python 3"
    },
    "language_info": {
      "name": "python"
    }
  },
  "cells": [
    {
      "cell_type": "markdown",
      "metadata": {
        "id": "view-in-github",
        "colab_type": "text"
      },
      "source": [
        "<a href=\"https://colab.research.google.com/github/ravi3640/First-Course-in-Probability-Theory/blob/main/Conditional_Probability_and_Independence.ipynb\" target=\"_parent\"><img src=\"https://colab.research.google.com/assets/colab-badge.svg\" alt=\"Open In Colab\"/></a>"
      ]
    },
    {
      "cell_type": "markdown",
      "source": [
        "# **3.1 Introduction**"
      ],
      "metadata": {
        "id": "lz4rNTC3U7n_"
      }
    },
    {
      "cell_type": "markdown",
      "source": [
        "\n",
        "\n",
        "*   Conditional probability is important for computing the probability number when partial informtion is available for an experiment.\n",
        "*   Even when no partial information is available, desired probability computation may require conditional probability.\n",
        "\n"
      ],
      "metadata": {
        "id": "1mERRUpnVEvY"
      }
    },
    {
      "cell_type": "markdown",
      "source": [
        "# **3.2 Conditional Probability**"
      ],
      "metadata": {
        "id": "PF3p_8H7WHZv"
      }
    },
    {
      "cell_type": "markdown",
      "source": [
        "\n",
        "\n",
        "*   If two fair dices are tossed simultaneously, what is the probability that the sum of upturned faces will be $8$, if we observe the first dice has upturned face as $3$?\n",
        "*   Conditional probability that $E$ will occur given that $F$ has occured is written as $P(E|F)$.\n",
        "\n",
        "*   **Definition**: Conditional Probability is obtained as -\n",
        "\n",
        "\\begin{align}\n",
        "   P(E|F) = \\frac{P(E \\cap F)}{P(F)} \\text{ If } P(F) > 0.\n",
        "\\end{align}\n",
        "*   **Example**: A coin is flipped twice. If we assume that all points in the sample space are equally likely, what is hte probability that both coins will result into $H$, if the first has resulted into a $H$.\n",
        "\n",
        "  **Solution**: Let $E = \\{(H,H)\\}$ represent the event where both coins resulted into a $H$. Let $F = \\{(H,H),(H,T)\\}$ is the event where first coins resulted into $H$. Complete sample space is given by $S = \\{(H,H), (H,T), (T,H), (T,T)\\}$. Now using the formula of conditional probability given in previous bullet point, we get\n",
        "\n",
        "  \\begin{align}\n",
        "     P(E|F) = \\frac{P(E \\cap F)}{P(F)} = \\frac{P(\\{(H,H)\\})}{P(\\{(H,H),(H,T)\\})} = \\frac{1/4}{2/4} = \\frac{1}{2}.\n",
        "  \\end{align}\n",
        "\n",
        "\n",
        "*   **Multiplication Rule and Conditional Probability**:\n",
        "\n",
        "\\begin{align}\n",
        "    P(E_1 E_2 ... E_n) = P(E_1) P(E_2 | E_1) P(E_3 | E_1 E_2) ... P(E_n | E_1...)\n",
        "\\end{align}\n",
        "\n"
      ],
      "metadata": {
        "id": "NWMHRD5WWNA_"
      }
    },
    {
      "cell_type": "markdown",
      "source": [
        "# **3.3 Bayes' Formula**"
      ],
      "metadata": {
        "id": "HGtOfTCmB7H2"
      }
    },
    {
      "cell_type": "markdown",
      "source": [
        "\n",
        "*   For two events $E$ and $F$, we can express event $E$ as -\n",
        "\n",
        "\\begin{align}\n",
        "    E = (E \\cap F) \\cup (E \\cap F^c) = P(E) = P(E | F) ⋅ P(F) + P(E | F^c) \\cdot P(F^c) = P(E | F) P(F) + P(E|F^c) P(F^c) = P(E|F)P(F) + P(E|F^c)[1-P(F)]\n",
        "\\end{align}\n",
        "\n",
        "Above equation is interesting because it says that $P(E)$ is weighted average of conditional probability of $E$, where weights are probability of the events that are put in conditions.\n",
        "\n",
        "*   **Example**: For an insurance company, people are divided into two groups - accident prone and not accident prone. Probability of accident for accident prone people is 0.4 within an year and not accident prone is 0.2 within that year. If we assume that 30% of the population is accident prone then what is the probability that new policypurchaser will meet an accident within a year.\n",
        "\n",
        "  **Solution**: Let $A$ denotes accident prone and $A_1$ is meeting accident.  \n",
        "\n",
        "  \\begin{align}\n",
        "      P(A_1) = P(A_1 | A) P(A) + P(A_1 | A^c) P(A^c) = (0.4)(0.3) + (0.2)(0.7) = 0.12 + 0.14 = 0.26\n",
        "  \\end{align}\n",
        "\n",
        "*   **Definition**: The odds ratio of an event is defined as -\n",
        "\n",
        "\\begin{align}\n",
        "   \\frac{P(A)}{P(A^c)} = \\frac{P(A)}{1-P(A)}\n",
        "\\end{align}\n",
        "\n",
        "What happens to this odds ration under conditional probability. Consider now a hypothesis $H$ that is true with probability $P(H)$ and suppose that new evidence $E$ is introduced, then conditional probabilities given the evidence $E$ is given by\n",
        "\n",
        "\\begin{align}\n",
        "   P(H|E) = \\frac{P(E|H)P(H)}{P(E)} \\text{ and } P(H^c|E) = \\frac{P(E|H^c)P(H^c)}{P(E)}\n",
        "\\end{align}\n",
        "\n",
        "Now if we compute the conditional odds, we get -\n",
        "\n",
        "\\begin{align}\n",
        "   \\frac{P(H|E)}{P(H^c|E)} = \\frac{P(H)}{P(H^c)} ⋅ \\frac{P(E|H)}{P(E|H^c)}\n",
        "\\end{align}\n",
        "\n",
        "This says that odds ratio increases whenever the new evidence is more likely when $H$ is true than when $H$ is false.\n",
        "\n",
        "  **Example**: When a coin $A$ is tossed, $H$ comes with probability $1/4$, and when coin $B$ is tossed $H$ comes with probability $3/4$. Suppose that one of the randomly chosen and is flipped twice. If both flips land head, what is the probability that coin $B$ was tossed.\n",
        "\n",
        "  **Solution**: Let $B$ be the event that coin $B$ was flipped. Then -\n",
        "\n",
        "  \\begin{align}\n",
        "     \\frac{P(B|two heads)}{P(B^c | two heads)} = \\frac{9/16}{1/16} = 9\n",
        "  \\end{align}  \n",
        "\n",
        "  Hence, odds are $9:1$ or $9/10$ is the probability of coin $B$ was flipped.\n",
        "\n",
        "*   **Proposition**:Suppose that event $E$ has occured and we are interesting in finding which of the $F_j$ has occured, then -\n",
        "\n",
        "\\begin{align}\n",
        "   P(F_j | E) = \\frac{P(E \\cap F_j)}{P(E)} = \\frac{P(E | F_j) P(F_j)}{\\stackrel{n}{\\underset{n=1}{\\sum}} P(E | F_i) P(F_i)}\n",
        "\\end{align}\n",
        "\n",
        "  This proposition is called Bayes' formula. This says that whaat happens to the hypothesis if a new evidence appears.  \n",
        "\n",
        "\n",
        "\n"
      ],
      "metadata": {
        "id": "VFgEcGh4CC71"
      }
    },
    {
      "cell_type": "markdown",
      "source": [
        "# **3.4 Independent Events**"
      ],
      "metadata": {
        "id": "fq08P0s4efnG"
      }
    },
    {
      "cell_type": "markdown",
      "source": [
        "\n",
        "\n",
        "*   **Independent Events**: We have seen that generally $P(E|F) \\neq P(E)$. That means knowing about the event $F$ changes the probability of event $E$. For the cases where $P(E|F) = P(E)$, we call event $E$ as independent if event $F$. This is becuase knowing about event $F$ does not changes the probability of event $E$. Mathematically, if event $E$ is independent of $F$ then -\n",
        "\n",
        "\\begin{align}\n",
        "   P(E \\cap F) = P(E) \\cdot P(F)\n",
        "\\end{align}\n",
        "\n",
        "  **Example**: A card is drawn randomly from a deck of 52 cards. If $E$ is the event that card is an ace and $F$ is the event that it is a spade, are event $E$ and $F$ independent?\n",
        "\n",
        "  **Solution**: Yes, they are independent.\n",
        "\n",
        "  \\begin{align}\n",
        "     P(E \\cap F) = 1/52 \\text{ and } \\\\\n",
        "     P(E) = 4/52, P(F) = 13/52 \\\\\n",
        "     P(E \\cap F) = P(E) \\times P(F)\n",
        "  \\end{align}\n",
        "\n",
        "  **Proposition**: If event $E$ and $F$ are independent then $E$ and $F^c$ are also independent.\n",
        "\n",
        "  **Definition**: Three events $E,F$ and $G$ are said to be independent if\n",
        "\n",
        "  \\begin{align}\n",
        "     P(EFG) = P(E)P(F)P(G)\\\\\n",
        "     P(EF) = P(E)P(F)\\\\\n",
        "     P(EG) = P(E)P(G)\\\\\n",
        "     P(FG) = P(F)P(G)\n",
        "  \\end{align}\n",
        "\n",
        "  This can be generalized for more than three events. The events $E_1, E_2,...,E_n$ are said to be independent, if for every subset $E_1, E_2,...,E_r, r\\leq n $ of these events -\n",
        "\n",
        "  \\begin{align}\n",
        "    P(E_1, E_2, ..., E_r) = P(E_1) ⋅ P(E_2) \\cdot \\cdot \\cdot P(E_r)\n",
        "  \\end{align}\n",
        "\n",
        "\n",
        "\n"
      ],
      "metadata": {
        "id": "V7SvBWkRe2Qf"
      }
    },
    {
      "cell_type": "markdown",
      "source": [
        "# **3.5 $P(.|F)$ is a Probability**"
      ],
      "metadata": {
        "id": "VTHpNCfCTekT"
      }
    },
    {
      "cell_type": "markdown",
      "source": [
        "\n",
        "Conditional probabilities satisfy all the properties of ordinary probability -\n",
        "*   **Proposition (a)**: $0\\leq P(E | F) \\leq 1$  \n",
        "\n",
        "*   **Proposition (b)**: $P(S|F) = 1$\n",
        "\n",
        "*   **Proposition (c)**: If $E_i, i=1,2,3,...$ are all mutually exclusive events, then\n",
        "\n",
        "\\begin{align}\n",
        "    P(\\stackrel{\\infty}{\\underset{1}{\\cup}} E_i|F) = \\stackrel{\\infty}{\\underset{1}{\\sum}} P(E_i | F)\n",
        "\\end{align}\n",
        "\n",
        "\n",
        "\n"
      ],
      "metadata": {
        "id": "ir-gAYOlTtO-"
      }
    },
    {
      "cell_type": "code",
      "execution_count": null,
      "metadata": {
        "id": "c2CSuFsgU1Y7"
      },
      "outputs": [],
      "source": []
    }
  ]
}